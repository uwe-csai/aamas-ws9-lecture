{
 "cells": [
  {
   "cell_type": "markdown",
   "id": "3d9c1bef",
   "metadata": {},
   "source": [
    "# Model-based Methods"
   ]
  },
  {
   "cell_type": "code",
   "execution_count": null,
   "id": "fcaeb6bb",
   "metadata": {},
   "outputs": [],
   "source": [
    "using Match, Plots\n",
    "include(\"operators.jl\")"
   ]
  },
  {
   "cell_type": "markdown",
   "id": "63615fba",
   "metadata": {},
   "source": [
    "# Definition of the environment (MDP)\n",
    "\n",
    "State:"
   ]
  },
  {
   "cell_type": "code",
   "execution_count": null,
   "id": "b76b1baa",
   "metadata": {},
   "outputs": [],
   "source": [
    "S = [if i==j && i==2 () else (i,j) end for i=1:3,j=1:4 ]"
   ]
  },
  {
   "cell_type": "markdown",
   "id": "263352a9",
   "metadata": {},
   "source": [
    "Actions"
   ]
  },
  {
   "cell_type": "code",
   "execution_count": null,
   "id": "5aca94fe",
   "metadata": {},
   "outputs": [],
   "source": [
    "A = [\"↑\",\"↓\",\"←\",\"→\"]"
   ]
  },
  {
   "cell_type": "markdown",
   "id": "40d5cd56",
   "metadata": {},
   "source": [
    "Function for checking that actions are valid within our environment:"
   ]
  },
  {
   "cell_type": "code",
   "execution_count": null,
   "id": "f1daa1a6",
   "metadata": {},
   "outputs": [],
   "source": [
    "OK(xy) = if xy[1] > 0 && xy[2] > 0 && xy[1] <= size(S,1) && xy[2] <= size(S,2) && S[xy[1],xy[2]] != ()  true else false end\n"
   ]
  },
  {
   "cell_type": "markdown",
   "id": "1800642b",
   "metadata": {},
   "source": [
    "Function returning the next state if we take a given action:"
   ]
  },
  {
   "cell_type": "code",
   "execution_count": null,
   "id": "e87fc851",
   "metadata": {},
   "outputs": [],
   "source": [
    "Af((i,j),a) =  @match a begin\n",
    "                \n",
    "    \"↑\" =>  if OK((i-1,j)) \n",
    "                (i-1,j) \n",
    "            else (i,j) end\n",
    "    \"↓\" =>  if OK((i+1,j))\n",
    "                (i+1,j) \n",
    "            else (i,j) end\n",
    "    \"←\" => if OK((i,j-1)) \n",
    "                (i,j-1) \n",
    "            else (i,j)  end\n",
    "    \"→\" => if OK((i,j+1))\n",
    "            (i,j+1)\n",
    "        else (i,j)  end\n",
    "    end"
   ]
  },
  {
   "cell_type": "markdown",
   "id": "c2472c46",
   "metadata": {},
   "source": [
    "Transition Probabilities:"
   ]
  },
  {
   "cell_type": "code",
   "execution_count": null,
   "id": "af079d2f",
   "metadata": {},
   "outputs": [],
   "source": [
    "P(a) = @match a begin \n",
    "                \"↑\" => [0.8,0.0,0.1,0.1]\n",
    "                \"↓\" => [0.0,0.8,0.1,0.1]\n",
    "                \"←\" => [0.1,0.1,0.8,0.0]\n",
    "                \"→\" => [0.1,0.1,0.0,0.8]\n",
    "             end"
   ]
  },
  {
   "cell_type": "markdown",
   "id": "89af29cd",
   "metadata": {},
   "source": [
    "Reward function"
   ]
  },
  {
   "cell_type": "code",
   "execution_count": null,
   "id": "b0590930",
   "metadata": {},
   "outputs": [],
   "source": [
    "R = [@match (i,j) begin (2,2)=> nothing\n",
    "                        (1,4) => 1. \n",
    "                        (2,4) => -1. \n",
    "                        _ => 0.\n",
    "                    end for i=1:3,j=1:4 ]"
   ]
  },
  {
   "cell_type": "markdown",
   "id": "7dea1aae",
   "metadata": {},
   "source": [
    "The reward for a particular state:"
   ]
  },
  {
   "cell_type": "code",
   "execution_count": null,
   "id": "0709030a",
   "metadata": {},
   "outputs": [],
   "source": [
    "r(s) = R[s[1],last(s)]"
   ]
  },
  {
   "cell_type": "code",
   "execution_count": null,
   "id": "ce26771c",
   "metadata": {},
   "outputs": [],
   "source": [
    "r((2,4))"
   ]
  },
  {
   "cell_type": "markdown",
   "id": "6482a9fc",
   "metadata": {},
   "source": [
    "The discount factor ($\\gamma$)"
   ]
  },
  {
   "cell_type": "code",
   "execution_count": null,
   "id": "6b376f4d",
   "metadata": {},
   "outputs": [],
   "source": [
    "γ = 0.9\n",
    "\n",
    "Γ(s) = @match s begin\n",
    "            (1,4) => 0.0 #Terminal state\n",
    "            (2,4) => 0.0 #Terminal state\n",
    "            _ => γ\n",
    "        end\n"
   ]
  },
  {
   "cell_type": "markdown",
   "id": "f75c8f7e",
   "metadata": {},
   "source": [
    "Calculating the value of the next state ($V_{s\\prime}$)"
   ]
  },
  {
   "cell_type": "code",
   "execution_count": null,
   "id": "12db71ee",
   "metadata": {},
   "outputs": [],
   "source": [
    "Vₛ′(V,s) = [ V[first(s′),last(s′)] for s′ in Af.([s],A) ]"
   ]
  },
  {
   "cell_type": "markdown",
   "id": "f29d4da1",
   "metadata": {},
   "source": [
    "Calculating the quality of an action/value of state:"
   ]
  },
  {
   "cell_type": "code",
   "execution_count": null,
   "id": "da747eae",
   "metadata": {},
   "outputs": [],
   "source": [
    "qₐ(s,a,V) = if s != () && a != \"\"\n",
    "    sum(P(a) .* (r(s) .+ Γ(s) .* Vₛ′(V,s)))\n",
    "  else\n",
    "    ()\n",
    "  end"
   ]
  },
  {
   "cell_type": "markdown",
   "id": "e71bcbe3",
   "metadata": {},
   "source": [
    "**Bellman equation**\n",
    "\n",
    "$$ v_*(s) =  \\underset a \\max [ R^a_s + \\gamma \\sum P^a_{ss'}v_*(s') ], \\gamma \\in (0,1) $$"
   ]
  },
  {
   "cell_type": "code",
   "execution_count": null,
   "id": "2b314c8e",
   "metadata": {},
   "outputs": [],
   "source": [
    "v(s,V) = maximum(qₐ.([s],A,[V]))"
   ]
  },
  {
   "cell_type": "markdown",
   "id": "4582d7f2",
   "metadata": {},
   "source": [
    "# Value Iteration\n",
    "\n",
    "Parameters:"
   ]
  },
  {
   "cell_type": "code",
   "execution_count": null,
   "id": "1239bd86",
   "metadata": {},
   "outputs": [],
   "source": [
    "Vᵥ = copy(R) # Arbitrary initialisation (0.0)\n",
    "Δᵥ = [] # value difference\n",
    "Θ = 0.00001 # threshold\n",
    "k = 100 #iterations"
   ]
  },
  {
   "cell_type": "markdown",
   "id": "cf144667",
   "metadata": {},
   "source": [
    "Main algorithm:"
   ]
  },
  {
   "cell_type": "code",
   "execution_count": null,
   "id": "6fc6339a",
   "metadata": {},
   "outputs": [],
   "source": [
    "for i = 1:k\n",
    "    Vᵥ′ = v.(S,[Vᵥ])\n",
    "    push!(Δᵥ,first(findmax(Vᵥ′ .- Vᵥ)))\n",
    "    global Vᵥ = copy(Vᵥ′)\n",
    "    if last(Δᵥ) <= Θ\n",
    "        break\n",
    "    end\n",
    "end"
   ]
  },
  {
   "cell_type": "markdown",
   "id": "8d2a1f1e",
   "metadata": {},
   "source": [
    "Convergence:"
   ]
  },
  {
   "cell_type": "code",
   "execution_count": null,
   "id": "a788e24c",
   "metadata": {},
   "outputs": [],
   "source": [
    "plot(Δᵥ)"
   ]
  },
  {
   "cell_type": "code",
   "execution_count": null,
   "id": "dfc2a6ed",
   "metadata": {},
   "outputs": [],
   "source": [
    "Vᵥ"
   ]
  },
  {
   "cell_type": "markdown",
   "id": "ecf420fe",
   "metadata": {},
   "source": [
    "## Policy Extraction\n",
    "\n",
    "Quality of actions in state:"
   ]
  },
  {
   "cell_type": "code",
   "execution_count": null,
   "id": "9a67038c",
   "metadata": {},
   "outputs": [],
   "source": [
    "Qπ(s,V) = qₐ.([s],A,[V])"
   ]
  },
  {
   "cell_type": "markdown",
   "id": "3502e546",
   "metadata": {},
   "source": [
    "Extracting the policy from best action:"
   ]
  },
  {
   "cell_type": "code",
   "execution_count": null,
   "id": "66279954",
   "metadata": {},
   "outputs": [],
   "source": [
    "Πᵒ(s,V) = A[last(findmax(Qπ(s,V)))]"
   ]
  },
  {
   "cell_type": "code",
   "execution_count": null,
   "id": "3564a118",
   "metadata": {},
   "outputs": [],
   "source": [
    "Πᵒ.(S,[Vᵥ])"
   ]
  },
  {
   "cell_type": "code",
   "execution_count": null,
   "id": "8df23157",
   "metadata": {},
   "outputs": [],
   "source": []
  }
 ],
 "metadata": {
  "kernelspec": {
   "display_name": "Julia 1.6.5",
   "language": "julia",
   "name": "julia-1.6"
  },
  "language_info": {
   "file_extension": ".jl",
   "mimetype": "application/julia",
   "name": "julia",
   "version": "1.6.5"
  }
 },
 "nbformat": 4,
 "nbformat_minor": 5
}
